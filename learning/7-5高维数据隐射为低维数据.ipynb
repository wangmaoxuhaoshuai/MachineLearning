{
 "cells": [
  {
   "cell_type": "markdown",
   "metadata": {},
   "source": [
    "### 从高维数据向低维数据的映射"
   ]
  },
  {
   "cell_type": "code",
   "execution_count": 1,
   "metadata": {},
   "outputs": [],
   "source": [
    "import numpy as np\n",
    "import matplotlib.pyplot as plt"
   ]
  },
  {
   "cell_type": "code",
   "execution_count": 3,
   "metadata": {},
   "outputs": [],
   "source": [
    "X = np.empty((100,2))\n",
    "X[:,0] = np.random.uniform(0.,100.,size=100)\n",
    "X[:,1] = 0.75 * X[:,0] + 3. + np.random.normal(0,10.,size=100)"
   ]
  },
  {
   "cell_type": "code",
   "execution_count": 4,
   "metadata": {},
   "outputs": [
    {
     "data": {
      "text/plain": [
       "PCA(n_components=2)"
      ]
     },
     "execution_count": 4,
     "metadata": {},
     "output_type": "execute_result"
    }
   ],
   "source": [
    "from playML.PCA import PCA\n",
    "\n",
    "pca = PCA(n_components=2)\n",
    "pca.fit(X)"
   ]
  },
  {
   "cell_type": "code",
   "execution_count": 5,
   "metadata": {},
   "outputs": [
    {
     "data": {
      "text/plain": [
       "array([[ 0.78779509,  0.61593741],\n",
       "       [ 0.61594082, -0.78779243]])"
      ]
     },
     "execution_count": 5,
     "metadata": {},
     "output_type": "execute_result"
    }
   ],
   "source": [
    "pca.components_"
   ]
  },
  {
   "cell_type": "code",
   "execution_count": 6,
   "metadata": {},
   "outputs": [
    {
     "data": {
      "text/plain": [
       "PCA(n_components=1)"
      ]
     },
     "execution_count": 6,
     "metadata": {},
     "output_type": "execute_result"
    }
   ],
   "source": [
    "pca = PCA(n_components=1)\n",
    "pca.fit(X)"
   ]
  },
  {
   "cell_type": "code",
   "execution_count": 7,
   "metadata": {},
   "outputs": [],
   "source": [
    "X_reduction = pca.transform(X)"
   ]
  },
  {
   "cell_type": "code",
   "execution_count": 9,
   "metadata": {},
   "outputs": [
    {
     "data": {
      "text/plain": [
       "(100, 1)"
      ]
     },
     "execution_count": 9,
     "metadata": {},
     "output_type": "execute_result"
    }
   ],
   "source": [
    "X_reduction.shape"
   ]
  },
  {
   "cell_type": "code",
   "execution_count": 10,
   "metadata": {},
   "outputs": [],
   "source": [
    "X_restore = pca.inverse_transform(X_reduction)"
   ]
  },
  {
   "cell_type": "code",
   "execution_count": 11,
   "metadata": {},
   "outputs": [
    {
     "data": {
      "text/plain": [
       "array([[ 84.49762368,  66.06445235],\n",
       "       [ 13.57775363,  10.61576431],\n",
       "       [ 66.32643339,  51.85731039],\n",
       "       [ 20.3446557 ,  15.90646551],\n",
       "       [ 14.41130075,  11.26747298],\n",
       "       [ 38.33418781,  29.97157806],\n",
       "       [ 83.71559453,  65.453023  ],\n",
       "       [ 27.38396726,  21.41015003],\n",
       "       [ -4.61244293,  -3.6062377 ],\n",
       "       [ 75.78936453,  59.25590145],\n",
       "       [ 39.06641801,  30.54407211],\n",
       "       [ 59.76592345,  46.72797684],\n",
       "       [ 62.45150287,  48.82769663],\n",
       "       [ 75.53470758,  59.05679796],\n",
       "       [ 70.55935138,  55.16681659],\n",
       "       [ 68.95261777,  53.91059219],\n",
       "       [ 88.17778128,  68.94178293],\n",
       "       [ 91.11431485,  71.23771119],\n",
       "       [ 28.2435073 ,  22.08218126],\n",
       "       [ 56.09391578,  43.85701828],\n",
       "       [ 77.25008526,  60.3979657 ],\n",
       "       [ 91.76154878,  71.74375092],\n",
       "       [ 35.15855853,  27.48871286],\n",
       "       [ 23.22427669,  18.15789668],\n",
       "       [ 62.78686002,  49.08989556],\n",
       "       [ 13.56924665,  10.60911313],\n",
       "       [ 52.77315116,  41.26067904],\n",
       "       [ 90.24926668,  70.56137343],\n",
       "       [ 87.82693543,  68.66747416],\n",
       "       [ 35.19250152,  27.51525118],\n",
       "       [ 86.49018065,  67.62233268],\n",
       "       [ 29.62428791,  23.16174434],\n",
       "       [ 90.91060432,  71.07844015],\n",
       "       [ 57.07130582,  44.62119051],\n",
       "       [ 22.53603346,  17.61979384],\n",
       "       [  3.38825325,   2.64910522],\n",
       "       [ 84.42692483,  66.00917647],\n",
       "       [  4.72646059,   3.69538239],\n",
       "       [ 38.22028333,  29.88252186],\n",
       "       [ 66.0266633 ,  51.6229352 ],\n",
       "       [ 38.76947137,  30.31190444],\n",
       "       [ 84.66400095,  66.19453439],\n",
       "       [ 15.3822351 ,  12.02659783],\n",
       "       [ 10.60438724,   8.29103831],\n",
       "       [ 15.42099526,  12.05690246],\n",
       "       [ 97.59100864,  76.3015131 ],\n",
       "       [ 82.38675258,  64.41406815],\n",
       "       [ 71.86901633,  56.19077789],\n",
       "       [ 93.39563879,  73.02136392],\n",
       "       [ 33.52695275,  26.21304217],\n",
       "       [ 46.97827678,  36.72995752],\n",
       "       [  5.9076893 ,   4.61892585],\n",
       "       [ 74.94731826,  58.59754772],\n",
       "       [ 22.37282533,  17.49218958],\n",
       "       [ 47.83234311,  37.39770912],\n",
       "       [ 80.43810961,  62.89052199],\n",
       "       [ 36.27163792,  28.35897379],\n",
       "       [ 84.72157377,  66.23954769],\n",
       "       [ 68.40283636,  53.48074569],\n",
       "       [ 25.93901117,  20.28041137],\n",
       "       [ 68.07095416,  53.22126365],\n",
       "       [ 63.22187333,  49.43001065],\n",
       "       [108.25101768,  84.63603932],\n",
       "       [ 97.20951821,  76.00324488],\n",
       "       [ 53.13143233,  41.54080111],\n",
       "       [ 19.27740415,  15.07203507],\n",
       "       [ 49.20802329,  38.47328444],\n",
       "       [ 74.83391656,  58.50888463],\n",
       "       [ 47.25917069,  36.94957437],\n",
       "       [ 35.41100242,  27.68608607],\n",
       "       [ 16.19192264,  12.6596519 ],\n",
       "       [ 46.42058335,  36.293925  ],\n",
       "       [ 72.89413251,  56.9922648 ],\n",
       "       [  5.83794315,   4.56439484],\n",
       "       [ 82.45650376,  64.4686031 ],\n",
       "       [ 89.23174201,  69.76582194],\n",
       "       [  9.80529451,   7.6662678 ],\n",
       "       [  4.27009403,   3.33857227],\n",
       "       [100.73743923,  78.76154931],\n",
       "       [ 98.73090375,  77.19273989],\n",
       "       [ 57.39299767,  44.87270523],\n",
       "       [ 28.01159793,  21.90086296],\n",
       "       [ 95.25807254,  74.47750742],\n",
       "       [  6.05898438,   4.73721588],\n",
       "       [ 42.92381569,  33.55997782],\n",
       "       [ 65.96889574,  51.57776964],\n",
       "       [ 27.804632  ,  21.73904669],\n",
       "       [102.19575475,  79.90173305],\n",
       "       [ 88.88509122,  69.49479308],\n",
       "       [ 13.07876337,  10.22562886],\n",
       "       [ 49.86043379,  38.98337147],\n",
       "       [ 63.58174669,  49.71137757],\n",
       "       [ 30.57915397,  23.9083062 ],\n",
       "       [ 92.08539682,  71.99695146],\n",
       "       [ 22.71567806,  17.76024893],\n",
       "       [ 40.74878206,  31.85942816],\n",
       "       [ 10.1120012 ,   7.90606638],\n",
       "       [ 46.05396659,  36.00728575],\n",
       "       [ 18.15810954,  14.19691478],\n",
       "       [ 64.90662353,  50.74723229]])"
      ]
     },
     "execution_count": 11,
     "metadata": {},
     "output_type": "execute_result"
    }
   ],
   "source": [
    "X_restore"
   ]
  },
  {
   "cell_type": "code",
   "execution_count": 12,
   "metadata": {},
   "outputs": [
    {
     "data": {
      "text/plain": [
       "<matplotlib.collections.PathCollection at 0x25bcef17278>"
      ]
     },
     "execution_count": 12,
     "metadata": {},
     "output_type": "execute_result"
    },
    {
     "data": {
      "image/png": "[encoded data removed]",
      "text/plain": [
       "<Figure size 432x288 with 1 Axes>"
      ]
     },
     "metadata": {},
     "output_type": "display_data"
    }
   ],
   "source": [
    "plt.scatter(X[:,0],X[:,1],color='b',alpha=0.5)\n",
    "plt.scatter(X_restore[:,0],X_restore[:,1],color='r',alpha=0.5)"
   ]
  },
  {
   "cell_type": "code",
   "execution_count": 13,
   "metadata": {},
   "outputs": [],
   "source": [
    "from sklearn.decomposition import PCA"
   ]
  },
  {
   "cell_type": "code",
   "execution_count": 14,
   "metadata": {},
   "outputs": [],
   "source": [
    "pca = PCA(n_components=1)"
   ]
  },
  {
   "cell_type": "code",
   "execution_count": 15,
   "metadata": {},
   "outputs": [
    {
     "data": {
      "text/plain": [
       "PCA(copy=True, iterated_power='auto', n_components=1, random_state=None,\n",
       "  svd_solver='auto', tol=0.0, whiten=False)"
      ]
     },
     "execution_count": 15,
     "metadata": {},
     "output_type": "execute_result"
    }
   ],
   "source": [
    "pca.fit(X)"
   ]
  },
  {
   "cell_type": "code",
   "execution_count": 16,
   "metadata": {},
   "outputs": [
    {
     "data": {
      "text/plain": [
       "array([[-0.78779514, -0.61593735]])"
      ]
     },
     "execution_count": 16,
     "metadata": {},
     "output_type": "execute_result"
    }
   ],
   "source": [
    "pca.components_"
   ]
  },
  {
   "cell_type": "code",
   "execution_count": 17,
   "metadata": {},
   "outputs": [],
   "source": [
    "X_reduction = pca.transform(X)"
   ]
  },
  {
   "cell_type": "code",
   "execution_count": 18,
   "metadata": {},
   "outputs": [],
   "source": [
    "X_restore = pca.inverse_transform(X_reduction)"
   ]
  },
  {
   "cell_type": "code",
   "execution_count": 19,
   "metadata": {},
   "outputs": [
    {
     "data": {
      "text/plain": [
       "<matplotlib.collections.PathCollection at 0x25bd01c2668>"
      ]
     },
     "execution_count": 19,
     "metadata": {},
     "output_type": "execute_result"
    },
    {
     "data": {
      "image/png": "[encoded data removed]",
      "text/plain": [
       "<Figure size 432x288 with 1 Axes>"
      ]
     },
     "metadata": {},
     "output_type": "display_data"
    }
   ],
   "source": [
    "plt.scatter(X[:,0],X[:,1],color='b',alpha=0.5)\n",
    "plt.scatter(X_restore[:,0],X_restore[:,1],color='r',alpha=0.5)"
   ]
  },
  {
   "cell_type": "code",
   "execution_count": null,
   "metadata": {},
   "outputs": [],
   "source": []
  }
 ],
 "metadata": {
  "kernelspec": {
   "display_name": "Python 3",
   "language": "python",
   "name": "python3"
  },
  "language_info": {
   "codemirror_mode": {
    "name": "ipython",
    "version": 3
   },
   "file_extension": ".py",
   "mimetype": "text/x-python",
   "name": "python",
   "nbconvert_exporter": "python",
   "pygments_lexer": "ipython3",
   "version": "3.6.5"
  }
 },
 "nbformat": 4,
 "nbformat_minor": 2
}
