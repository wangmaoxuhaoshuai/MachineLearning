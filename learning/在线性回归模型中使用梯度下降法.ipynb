{
 "cells": [
  {
   "cell_type": "code",
   "execution_count": 1,
   "metadata": {},
   "outputs": [],
   "source": [
    "import numpy as np\n",
    "import matplotlib.pyplot as plt\n"
   ]
  },
  {
   "cell_type": "code",
   "execution_count": 2,
   "metadata": {},
   "outputs": [],
   "source": [
    "np.random.seed = 666\n",
    "x = 2 * np.random.random(size=100)\n",
    "y = x * 3. + 4. + np.random.random(size=100)"
   ]
  },
  {
   "cell_type": "code",
   "execution_count": 3,
   "metadata": {},
   "outputs": [
    {
     "data": {
      "text/plain": [
       "array([0.02164381, 0.70164409, 0.46709697, 0.99877366, 0.03729296,\n",
       "       0.34304135, 1.6109253 , 1.10731617, 0.8805321 , 0.76634631,\n",
       "       0.64763879, 1.56533334, 0.4241843 , 0.89453465, 0.58110967,\n",
       "       1.83477457, 1.42397436, 0.79207518, 0.70607303, 0.30674525,\n",
       "       0.0609467 , 0.36975484, 1.01001585, 1.4331627 , 1.92224697,\n",
       "       0.98846517, 0.56733708, 0.09411034, 1.35043133, 1.18493655,\n",
       "       1.95655395, 1.11781863, 1.90345948, 0.95137608, 1.35742283,\n",
       "       0.75552885, 1.51285629, 1.13847808, 1.07960834, 0.57186983,\n",
       "       1.96195635, 0.89560521, 0.8530617 , 0.1845801 , 0.43314128,\n",
       "       0.34541836, 0.21003699, 1.05545661, 1.19873842, 0.1169049 ,\n",
       "       0.78797507, 0.12358885, 1.15539735, 0.82170028, 0.21375499,\n",
       "       0.88284559, 1.22481921, 1.98350925, 1.07207976, 1.58711081,\n",
       "       1.98565529, 1.97794092, 1.13913312, 0.85687003, 0.43799941,\n",
       "       1.06618837, 1.13041238, 1.80272934, 0.2029425 , 0.92685079,\n",
       "       1.19669478, 0.35200987, 1.43165511, 1.83469122, 1.19643528,\n",
       "       0.26490177, 0.6825375 , 1.76453829, 0.57075607, 1.25979558,\n",
       "       0.11403646, 0.06673549, 1.91509744, 1.39561834, 1.40662676,\n",
       "       1.68101429, 0.49071218, 0.49478061, 1.79908682, 1.93825068,\n",
       "       1.3615878 , 1.02881311, 1.77912278, 0.7803293 , 1.43978089,\n",
       "       0.64255344, 0.69606874, 0.82502192, 1.03181552, 0.25689281])"
      ]
     },
     "execution_count": 3,
     "metadata": {},
     "output_type": "execute_result"
    }
   ],
   "source": [
    "x"
   ]
  },
  {
   "cell_type": "code",
   "execution_count": 4,
   "metadata": {},
   "outputs": [
    {
     "data": {
      "text/plain": [
       "array([ 4.82455152,  6.21139428,  5.64482926,  7.05207866,  4.79368616,\n",
       "        5.26215647,  9.5403348 ,  7.38726678,  7.06977485,  6.50998985,\n",
       "        6.50989879,  8.86047605,  5.97360355,  7.36541132,  6.32665878,\n",
       "       10.08236461,  9.1499297 ,  7.26675843,  6.36732851,  5.45830951,\n",
       "        4.59623429,  5.63829234,  7.95283316,  8.43907077, 10.12126712,\n",
       "        7.94917119,  5.92630203,  4.51342521,  9.04594269,  8.1658256 ,\n",
       "       10.40072665,  7.95953094, 10.28701505,  7.48658479,  8.9733655 ,\n",
       "        6.30492918,  8.94402632,  7.87655948,  7.66194167,  5.94777845,\n",
       "        9.97597472,  7.65029163,  7.13288756,  4.57604981,  5.88615658,\n",
       "        5.47403744,  4.63305587,  7.56664848,  8.24962645,  4.77568076,\n",
       "        6.7437009 ,  4.63535169,  8.0568274 ,  7.46275168,  5.50089078,\n",
       "        7.07446854,  8.01033357, 10.10925416,  7.29690069,  9.40805537,\n",
       "       10.91299126, 10.34799078,  8.37905705,  6.66727516,  5.87741069,\n",
       "        7.82456181,  7.74984494, 10.20901251,  4.74246902,  6.81791474,\n",
       "        8.5626089 ,  5.91698822,  8.52249598, 10.42124788,  8.47781684,\n",
       "        5.64348857,  6.73365722,  9.75571503,  6.51084469,  8.48436939,\n",
       "        4.44105612,  4.30533906,  9.9664668 ,  8.978771  ,  8.70217074,\n",
       "        9.13693144,  5.66396803,  5.70496063,  9.63443332,  9.9093174 ,\n",
       "        8.6135411 ,  7.16507332,  9.62046567,  6.89095664,  9.11075209,\n",
       "        6.15414158,  6.28968031,  7.2182503 ,  7.46533288,  5.75423379])"
      ]
     },
     "execution_count": 4,
     "metadata": {},
     "output_type": "execute_result"
    }
   ],
   "source": [
    "y"
   ]
  },
  {
   "cell_type": "code",
   "execution_count": 5,
   "metadata": {},
   "outputs": [],
   "source": [
    "X = x.reshape(-1,1)"
   ]
  },
  {
   "cell_type": "code",
   "execution_count": 6,
   "metadata": {},
   "outputs": [
    {
     "data": {
      "text/plain": [
       "(100,)"
      ]
     },
     "execution_count": 6,
     "metadata": {},
     "output_type": "execute_result"
    }
   ],
   "source": [
    "y.shape"
   ]
  },
  {
   "cell_type": "code",
   "execution_count": 7,
   "metadata": {},
   "outputs": [
    {
     "data": {
      "text/plain": [
       "(100, 1)"
      ]
     },
     "execution_count": 7,
     "metadata": {},
     "output_type": "execute_result"
    }
   ],
   "source": [
    "X.shape"
   ]
  },
  {
   "cell_type": "code",
   "execution_count": 8,
   "metadata": {},
   "outputs": [
    {
     "data": {
      "text/plain": [
       "<matplotlib.collections.PathCollection at 0x1e48f1d32b0>"
      ]
     },
     "execution_count": 8,
     "metadata": {},
     "output_type": "execute_result"
    },
    {
     "data": {
      "image/png": "[encoded data removed]",
      "text/plain": [
       "<Figure size 432x288 with 1 Axes>"
      ]
     },
     "metadata": {},
     "output_type": "display_data"
    }
   ],
   "source": [
    "plt.scatter(x,y)"
   ]
  },
  {
   "cell_type": "markdown",
   "metadata": {},
   "source": [
    "## 使用梯度下降法训练"
   ]
  },
  {
   "cell_type": "code",
   "execution_count": 9,
   "metadata": {},
   "outputs": [],
   "source": [
    "def J(theta,X_b,y):\n",
    "    try:\n",
    "        return np.sum((y - X_b.dot(theta))**2) / len(X_b)\n",
    "    except:\n",
    "        return float('inf')"
   ]
  },
  {
   "cell_type": "code",
   "execution_count": 10,
   "metadata": {},
   "outputs": [],
   "source": [
    "def dJ(theta,X_b,y):\n",
    "    res = np.empty(len(theta))\n",
    "    res[0] = np.sum(X_b.dot(theta) - y)\n",
    "    for i in range(1,len(theta)):\n",
    "        res[i] = (X_b.dot(theta) - y).dot(X_b[:,i])\n",
    "    return res * 2 / len(X_b)"
   ]
  },
  {
   "cell_type": "code",
   "execution_count": 11,
   "metadata": {},
   "outputs": [],
   "source": [
    "def gradient_descent(X_b,y,initial_theta,eta,n_iters = 1e4,epsilon=1e-8):\n",
    "    \n",
    "    theta = initial_theta\n",
    "    i_iter = 0\n",
    "  \n",
    "    while i_iter < n_iters:\n",
    "        gradient = dJ(theta,X_b,y)\n",
    "        last_theta = theta\n",
    "        theta = theta - eta * gradient\n",
    "\n",
    "        if(abs(J(theta,X_b,y) - J(last_theta,X_b,y)) < epsilon):\n",
    "            break\n",
    "        \n",
    "        i_iter += 1\n",
    "    return theta"
   ]
  },
  {
   "cell_type": "code",
   "execution_count": 12,
   "metadata": {},
   "outputs": [
    {
     "data": {
      "text/plain": [
       "array([4.44278787, 3.03809365])"
      ]
     },
     "execution_count": 12,
     "metadata": {},
     "output_type": "execute_result"
    }
   ],
   "source": [
    "X_b = np.hstack([np.ones((len(x),1)),x.reshape(-1,1)])\n",
    "initial_theta = np.zeros(X_b.shape[1])\n",
    "eta = 0.01\n",
    "\n",
    "theta = gradient_descent(X_b,y,initial_theta,eta)\n",
    "theta"
   ]
  },
  {
   "cell_type": "markdown",
   "metadata": {},
   "source": [
    "## 封装我们的线性回归算法"
   ]
  },
  {
   "cell_type": "code",
   "execution_count": 13,
   "metadata": {},
   "outputs": [
    {
     "data": {
      "text/plain": [
       "LinearRegression()"
      ]
     },
     "execution_count": 13,
     "metadata": {},
     "output_type": "execute_result"
    }
   ],
   "source": [
    "from playML.LinearRegression import LinearRegression\n",
    "\n",
    "lin_reg = LinearRegression()\n",
    "lin_reg.fit_gd(X,y)"
   ]
  },
  {
   "cell_type": "code",
   "execution_count": 14,
   "metadata": {},
   "outputs": [
    {
     "data": {
      "text/plain": [
       "array([3.03809365])"
      ]
     },
     "execution_count": 14,
     "metadata": {},
     "output_type": "execute_result"
    }
   ],
   "source": [
    "lin_reg.coef_\n"
   ]
  },
  {
   "cell_type": "code",
   "execution_count": 15,
   "metadata": {},
   "outputs": [
    {
     "data": {
      "text/plain": [
       "4.4427878689011955"
      ]
     },
     "execution_count": 15,
     "metadata": {},
     "output_type": "execute_result"
    }
   ],
   "source": [
    "lin_reg.interception_\n"
   ]
  },
  {
   "cell_type": "code",
   "execution_count": null,
   "metadata": {},
   "outputs": [],
   "source": []
  }
 ],
 "metadata": {
  "kernelspec": {
   "display_name": "Python 3",
   "language": "python",
   "name": "python3"
  },
  "language_info": {
   "codemirror_mode": {
    "name": "ipython",
    "version": 3
   },
   "file_extension": ".py",
   "mimetype": "text/x-python",
   "name": "python",
   "nbconvert_exporter": "python",
   "pygments_lexer": "ipython3",
   "version": "3.6.5"
  }
 },
 "nbformat": 4,
 "nbformat_minor": 2
}
