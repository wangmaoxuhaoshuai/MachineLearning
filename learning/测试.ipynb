{
 "cells": [
  {
   "cell_type": "code",
   "execution_count": 73,
   "metadata": {},
   "outputs": [
    {
     "data": {
      "text/plain": [
       "array([10, 12, 23, 43, 51, 57, 69, 75, 77, 85])"
      ]
     },
     "execution_count": 73,
     "metadata": {},
     "output_type": "execute_result"
    }
   ],
   "source": [
    "import numpy as np\n",
    "list_a = np.sort(np.random.randint(0,100,10))\n",
    "list_a"
   ]
  },
  {
   "cell_type": "code",
   "execution_count": 74,
   "metadata": {},
   "outputs": [],
   "source": [
    "import numpy as np\n",
    "\n",
    "# 顺序查找 快速顺序查找 折半查找 均匀折半查找 二叉树查找\n",
    "class Search:\n",
    "    def __init__(self,array,num):\n",
    "        # 待查找数组\n",
    "        self.initial_array_ = array\n",
    "        self.len_ = len(array)\n",
    "        # 待查找数\n",
    "        self.num_ = num\n",
    "        # 待查找数的索引\n",
    "        self.index_ = self.len_\n",
    "\n",
    "    # 二叉树查找\n",
    "    def tree_search(self):\n",
    "        assert self.len_ > 0, \\\n",
    "            \"initial_list can not be empty\"\n",
    "        if (self.len_ == 1):\n",
    "            self.index_ = 0\n",
    "        else:\n",
    "            # 分别记录： 节点左子树下标 节点的值在给定数组中的下标 节点右子树下标 （初始化记录第一个节点）\n",
    "            tree_array = np.array([0,0,0])\n",
    "\n",
    "            # 记录每一次插入到tree_array的节点的下标\n",
    "            index_tree_add = 0\n",
    "\n",
    "            # 构造二叉树\n",
    "            for i in range(1,self.len_):\n",
    "\n",
    "                def insert(value,root):\n",
    "                    global tree_array\n",
    "                    global index_tree_add\n",
    "                    \n",
    "                    if (self.initial_array_[value] <= se\n",
    "    )\n",
    "\n",
    "#                     # 小于等于根节点\n",
    "#                     if (self.initial_array_[value] <= self.initial_array_[root]):\n",
    "#                         # 若根节点左子树不存在，则将节点作为根节点左子树\n",
    "#                         if (tree_array[root][0] == 0):\n",
    "#                             # 将节点插入到树中\n",
    "#                             tree_array = np.vstack([tree_array,[0,value,0]])\n",
    "#                             # 修改增加的节点下标\n",
    "#                             index_tree_add += 1\n",
    "#                             # 修改根节点中的左子树下标\n",
    "#                             tree_array[root][0] = index_tree_add\n",
    "#                         # 若根节点左子树下标存在\n",
    "#                         else:\n",
    "#                             # 修改根节点为原来根节点的左子树\n",
    "#                             root = tree_array[root][0]\n",
    "#                             # 递归\n",
    "#                             insert(value,root)\n",
    "#                     # 大于根节点\n",
    "#                     else:\n",
    "#                         # 若根节点的右子树不存在，则将节点作为根节点右子树\n",
    "#                         if (tree_array[root][2] == 0):\n",
    "#                             # 将节点插入到树中\n",
    "#                             tree_array = np.vstack([tree_array, [0, value, 0]])\n",
    "#                             # 修改增加的节点下标\n",
    "#                             index_tree_add += 1\n",
    "#                             tree_array[root][2] = index_tree_add\n",
    "#                         # 若根节点的右子树存在\n",
    "#                         else:\n",
    "#                             root = tree_array[root][2]\n",
    "#                             insert(value,root)\n",
    "\n",
    "                insert(i,0)\n",
    "\n",
    "            def search(root):\n",
    "\n",
    "                # 查找数等于根节点\n",
    "                if (self.num_ == self.initial_array_[tree_array[root][1]]):\n",
    "                    self.index_ = tree_array[root][1]\n",
    "                    return\n",
    "                # 查找数大于根节点，则比较右子树\n",
    "                elif (self.num > self.initial_array_[tree_array[root][1]]):\n",
    "                    # 如果根节点右子树不存在\n",
    "                    if (tree_array[root][2] == 0):\n",
    "                        return\n",
    "                    # 如果右子树存在，修改根节点为右子树\n",
    "                    else:\n",
    "                        root = tree_array[root][2]\n",
    "                        search(root)\n",
    "                # 查找树小于根节点，则比较左子树\n",
    "                else:\n",
    "                    # 如果左子树不存在\n",
    "                    if (tree_array[root][0] == 0):\n",
    "                        return\n",
    "                    else:\n",
    "                        root = tree_array[root][0]\n",
    "                        search(root)\n",
    "\n",
    "#             search(0)"
   ]
  },
  {
   "cell_type": "code",
   "execution_count": 75,
   "metadata": {},
   "outputs": [
    {
     "ename": "NameError",
     "evalue": "name 'tree_array' is not defined",
     "output_type": "error",
     "traceback": [
      "\u001b[1;31m---------------------------------------------------------------------------\u001b[0m",
      "\u001b[1;31mNameError\u001b[0m                                 Traceback (most recent call last)",
      "\u001b[1;32m<ipython-input-75-652767882279>\u001b[0m in \u001b[0;36m<module>\u001b[1;34m()\u001b[0m\n\u001b[0;32m      1\u001b[0m \u001b[0msearch_a\u001b[0m \u001b[1;33m=\u001b[0m \u001b[0mSearch\u001b[0m\u001b[1;33m(\u001b[0m\u001b[0mlist_a\u001b[0m\u001b[1;33m,\u001b[0m\u001b[1;36m9\u001b[0m\u001b[1;33m)\u001b[0m\u001b[1;33m\u001b[0m\u001b[0m\n\u001b[1;32m----> 2\u001b[1;33m \u001b[0msearch_a\u001b[0m\u001b[1;33m.\u001b[0m\u001b[0mtree_search\u001b[0m\u001b[1;33m(\u001b[0m\u001b[1;33m)\u001b[0m\u001b[1;33m\u001b[0m\u001b[0m\n\u001b[0m",
      "\u001b[1;32m<ipython-input-74-778f9cae05a9>\u001b[0m in \u001b[0;36mtree_search\u001b[1;34m(self)\u001b[0m\n\u001b[0;32m     61\u001b[0m                             \u001b[0minsert\u001b[0m\u001b[1;33m(\u001b[0m\u001b[0mvalue\u001b[0m\u001b[1;33m,\u001b[0m\u001b[0mroot\u001b[0m\u001b[1;33m)\u001b[0m\u001b[1;33m\u001b[0m\u001b[0m\n\u001b[0;32m     62\u001b[0m \u001b[1;33m\u001b[0m\u001b[0m\n\u001b[1;32m---> 63\u001b[1;33m                 \u001b[0minsert\u001b[0m\u001b[1;33m(\u001b[0m\u001b[0mi\u001b[0m\u001b[1;33m,\u001b[0m\u001b[1;36m0\u001b[0m\u001b[1;33m)\u001b[0m\u001b[1;33m\u001b[0m\u001b[0m\n\u001b[0m\u001b[0;32m     64\u001b[0m \u001b[1;33m\u001b[0m\u001b[0m\n\u001b[0;32m     65\u001b[0m             \u001b[1;32mdef\u001b[0m \u001b[0msearch\u001b[0m\u001b[1;33m(\u001b[0m\u001b[0mroot\u001b[0m\u001b[1;33m)\u001b[0m\u001b[1;33m:\u001b[0m\u001b[1;33m\u001b[0m\u001b[0m\n",
      "\u001b[1;32m<ipython-input-74-778f9cae05a9>\u001b[0m in \u001b[0;36minsert\u001b[1;34m(value, root)\u001b[0m\n\u001b[0;32m     50\u001b[0m                     \u001b[1;32melse\u001b[0m\u001b[1;33m:\u001b[0m\u001b[1;33m\u001b[0m\u001b[0m\n\u001b[0;32m     51\u001b[0m                         \u001b[1;31m# 若根节点的右子树不存在，则将节点作为根节点右子树\u001b[0m\u001b[1;33m\u001b[0m\u001b[1;33m\u001b[0m\u001b[0m\n\u001b[1;32m---> 52\u001b[1;33m                         \u001b[1;32mif\u001b[0m \u001b[1;33m(\u001b[0m\u001b[0mtree_array\u001b[0m\u001b[1;33m[\u001b[0m\u001b[0mroot\u001b[0m\u001b[1;33m]\u001b[0m\u001b[1;33m[\u001b[0m\u001b[1;36m2\u001b[0m\u001b[1;33m]\u001b[0m \u001b[1;33m==\u001b[0m \u001b[1;36m0\u001b[0m\u001b[1;33m)\u001b[0m\u001b[1;33m:\u001b[0m\u001b[1;33m\u001b[0m\u001b[0m\n\u001b[0m\u001b[0;32m     53\u001b[0m                             \u001b[1;31m# 将节点插入到树中\u001b[0m\u001b[1;33m\u001b[0m\u001b[1;33m\u001b[0m\u001b[0m\n\u001b[0;32m     54\u001b[0m                             \u001b[0mtree_array\u001b[0m \u001b[1;33m=\u001b[0m \u001b[0mnp\u001b[0m\u001b[1;33m.\u001b[0m\u001b[0mvstack\u001b[0m\u001b[1;33m(\u001b[0m\u001b[1;33m[\u001b[0m\u001b[0mtree_array\u001b[0m\u001b[1;33m,\u001b[0m \u001b[1;33m[\u001b[0m\u001b[1;36m0\u001b[0m\u001b[1;33m,\u001b[0m \u001b[0mvalue\u001b[0m\u001b[1;33m,\u001b[0m \u001b[1;36m0\u001b[0m\u001b[1;33m]\u001b[0m\u001b[1;33m]\u001b[0m\u001b[1;33m)\u001b[0m\u001b[1;33m\u001b[0m\u001b[0m\n",
      "\u001b[1;31mNameError\u001b[0m: name 'tree_array' is not defined"
     ]
    }
   ],
   "source": [
    "search_a = Search(list_a,9)\n",
    "search_a.tree_search()"
   ]
  },
  {
   "cell_type": "code",
   "execution_count": 93,
   "metadata": {},
   "outputs": [],
   "source": [
    "def fun1():\n",
    "    list_aa = [0,1,2]\n",
    "    def fun2():\n",
    "        global list_aa\n",
    "        list_aa = np.vstack([list_aa,[9,8,7]])"
   ]
  },
  {
   "cell_type": "code",
   "execution_count": 94,
   "metadata": {},
   "outputs": [],
   "source": [
    "fun1()"
   ]
  },
  {
   "cell_type": "code",
   "execution_count": 95,
   "metadata": {},
   "outputs": [
    {
     "ename": "NameError",
     "evalue": "name 'list_aa' is not defined",
     "output_type": "error",
     "traceback": [
      "\u001b[1;31m---------------------------------------------------------------------------\u001b[0m",
      "\u001b[1;31mNameError\u001b[0m                                 Traceback (most recent call last)",
      "\u001b[1;32m<ipython-input-95-33310cfc6d93>\u001b[0m in \u001b[0;36m<module>\u001b[1;34m()\u001b[0m\n\u001b[1;32m----> 1\u001b[1;33m \u001b[0mlist_aa\u001b[0m\u001b[1;33m\u001b[0m\u001b[0m\n\u001b[0m",
      "\u001b[1;31mNameError\u001b[0m: name 'list_aa' is not defined"
     ]
    }
   ],
   "source": [
    "list_aa"
   ]
  },
  {
   "cell_type": "code",
   "execution_count": null,
   "metadata": {},
   "outputs": [],
   "source": []
  }
 ],
 "metadata": {
  "kernelspec": {
   "display_name": "Python 3",
   "language": "python",
   "name": "python3"
  },
  "language_info": {
   "codemirror_mode": {
    "name": "ipython",
    "version": 3
   },
   "file_extension": ".py",
   "mimetype": "text/x-python",
   "name": "python",
   "nbconvert_exporter": "python",
   "pygments_lexer": "ipython3",
   "version": "3.6.5"
  }
 },
 "nbformat": 4,
 "nbformat_minor": 2
}
