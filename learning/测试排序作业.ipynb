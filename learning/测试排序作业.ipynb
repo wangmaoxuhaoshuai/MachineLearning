{
 "cells": [
  {
   "cell_type": "code",
   "execution_count": 1,
   "metadata": {
    "scrolled": true
   },
   "outputs": [],
   "source": [
    "import numpy as np\n"
   ]
  },
  {
   "cell_type": "code",
   "execution_count": 2,
   "metadata": {},
   "outputs": [],
   "source": [
    "DATA_MAX = 11\n",
    "len_ = 10\n",
    "initial_list = np.random.randint(0,10,len_)\n",
    "\n",
    "nodetype = np.dtype({\n",
    "            'names': ['data','tree_arr_index'],\n",
    "            'formats': ['i','i']\n",
    "        })\n",
    "\n",
    "num_tree_nodes = len_ * 2 - 1\n",
    "\n",
    "tree_array = np.array([(0, i) for i in range(num_tree_nodes)], dtype=nodetype)"
   ]
  },
  {
   "cell_type": "code",
   "execution_count": 4,
   "metadata": {},
   "outputs": [
    {
     "data": {
      "text/plain": [
       "(1, 1)"
      ]
     },
     "execution_count": 4,
     "metadata": {},
     "output_type": "execute_result"
    }
   ],
   "source": [
    "index_11 = 0\n",
    "tree_array[index_11+1]['data'] = 1\n",
    "tree_array[index_11+1]"
   ]
  },
  {
   "cell_type": "code",
   "execution_count": 7,
   "metadata": {},
   "outputs": [],
   "source": [
    "# 从上次胜出的节点中开始更新\n",
    "def UpdateTree(index):\n",
    "    while(index):\n",
    "        #如果是左孩子\n",
    "        if(index % 2):\n",
    "            #左孩子小于右孩子\n",
    "            if(tree_array[index]['data'] <= tree_array[index+1]['data']):\n",
    "                #更新父节点的值和在该值在树中的索引\n",
    "                tree_array[(index-1)/2]['data'] = tree_array[index]['data']\n",
    "                tree_array[(index-1)/2]['tree_arr_index'] = tree_array[index]['tree_arr_index']\n",
    "            else:\n",
    "                tree_array[(index-1)/2]['data'] = tree_array[index+1]['data']\n",
    "                tree_array[(index-1)/2]['tree_arr_index'] = tree_array[index+1]['tree_arr_index']\n",
    "            #更新索引，准备比较上一层父节点及其兄弟\n",
    "            index = index/2\n",
    "        #如果是右孩子\n",
    "        else:\n",
    "            #左孩子小于右孩子\n",
    "            if(tree_array[index-1]['data'] <= tree_array[index]['data']):\n",
    "                #更新父节点的值和在该值在树中的索引\n",
    "                tree_array[index/2-1]['data'] = tree_array[index-1]['data']\n",
    "                tree_array[inedx/2-1]['tree_arr_index'] = tree_array[index-1]['tree_arr_index']\n",
    "            else:\n",
    "                tree_array[index/2-1]['data'] = tree_array[index]['data']\n",
    "                tree_array[inedx/2-1]['tree_arr_index'] = tree_array[index]['tree_arr_index']\n",
    "            #更新索引，准备比较上一层父节点及其兄弟\n",
    "            index = index/2-1"
   ]
  },
  {
   "cell_type": "code",
   "execution_count": 8,
   "metadata": {},
   "outputs": [],
   "source": [
    "#锦标赛排序\n",
    "def ChampionSort(num):\n",
    "    #满二叉树的叶子节点数\n",
    "    LeafNodeSize = 1\n",
    "    #满二叉树的高度\n",
    "    height = 1\n",
    "    #循环结束后，满二叉树叶子节点应该是2的幂\n",
    "    while(LeafNodeSize < num):\n",
    "        LeafNodeSize*=2\n",
    "        height+=2\n",
    "    \n",
    "    #满二叉树所有节点个数正好是叶子个数的两倍\n",
    "    TreeSize = LeafNodeSize*2-1\n",
    "    \n",
    "    IndexLeafStart = LeafNodeSize - 1\n",
    "    \n",
    "    IndexArr = 0\n",
    "    for i in range(IndexLeafStart):\n",
    "        if(IndexArr < num):\n",
    "            tree_array[i]['data'] = initial_list[IndexArr]\n",
    "            tree_array[i]['tree_arr_index'] = IndexArr\n",
    "            IndexArr += 1\n",
    "        else:\n",
    "            tree_array[i]['data'] = DATA_MAX\n",
    "            tree_array[i]['tree_arr_index'] = -1\n",
    "    \n",
    "    for k in range(TreeSize-1,1,-2):\n",
    "        if(tree_array[k-1]['data'] <= tree_array[k]['data']):\n",
    "            tree_array[k/2-1]['data'] = tree_array[k-1]['data']\n",
    "            tree_array[k/2-1]['tree_arr_index'] = tree_array[k-1]['tree_arr_index']\n",
    "        else:\n",
    "            tree_array[k/2-1]['data'] = tree_array[k]['data']\n",
    "            tree_array[k/2-1]['tree_arr_index'] = tree_array[k]['tree_arr_index']\n",
    "    \n",
    "    for m in range(num-1):\n",
    "        initial_list[m] = tree_array[0]['data']\n",
    "        winIndex = tree_array[0]['tree_arr_index'] + IndexLeafStart\n",
    "        tree_array[winIndex]['data'] = DATA_MAX\n",
    "        UpdateTree(winIndex)\n",
    "    \n",
    "    initial_list[num-1] = tree_array[0]['data']"
   ]
  },
  {
   "cell_type": "code",
   "execution_count": 10,
   "metadata": {},
   "outputs": [
    {
     "ename": "IndexError",
     "evalue": "index 29 is out of bounds for axis 0 with size 19",
     "output_type": "error",
     "traceback": [
      "\u001b[1;31m---------------------------------------------------------------------------\u001b[0m",
      "\u001b[1;31mIndexError\u001b[0m                                Traceback (most recent call last)",
      "\u001b[1;32m<ipython-input-10-ef0b8f641bfa>\u001b[0m in \u001b[0;36m<module>\u001b[1;34m()\u001b[0m\n\u001b[1;32m----> 1\u001b[1;33m \u001b[0mChampionSort\u001b[0m\u001b[1;33m(\u001b[0m\u001b[0mlen_\u001b[0m\u001b[1;33m)\u001b[0m\u001b[1;33m\u001b[0m\u001b[0m\n\u001b[0m",
      "\u001b[1;32m<ipython-input-8-d7478c7efb65>\u001b[0m in \u001b[0;36mChampionSort\u001b[1;34m(num)\u001b[0m\n\u001b[0;32m     26\u001b[0m \u001b[1;33m\u001b[0m\u001b[0m\n\u001b[0;32m     27\u001b[0m     \u001b[1;32mfor\u001b[0m \u001b[0mk\u001b[0m \u001b[1;32min\u001b[0m \u001b[0mrange\u001b[0m\u001b[1;33m(\u001b[0m\u001b[0mTreeSize\u001b[0m\u001b[1;33m-\u001b[0m\u001b[1;36m1\u001b[0m\u001b[1;33m,\u001b[0m\u001b[1;36m1\u001b[0m\u001b[1;33m,\u001b[0m\u001b[1;33m-\u001b[0m\u001b[1;36m2\u001b[0m\u001b[1;33m)\u001b[0m\u001b[1;33m:\u001b[0m\u001b[1;33m\u001b[0m\u001b[0m\n\u001b[1;32m---> 28\u001b[1;33m         \u001b[1;32mif\u001b[0m\u001b[1;33m(\u001b[0m\u001b[0mtree_array\u001b[0m\u001b[1;33m[\u001b[0m\u001b[0mk\u001b[0m\u001b[1;33m-\u001b[0m\u001b[1;36m1\u001b[0m\u001b[1;33m]\u001b[0m\u001b[1;33m[\u001b[0m\u001b[1;34m'data'\u001b[0m\u001b[1;33m]\u001b[0m \u001b[1;33m<=\u001b[0m \u001b[0mtree_array\u001b[0m\u001b[1;33m[\u001b[0m\u001b[0mk\u001b[0m\u001b[1;33m]\u001b[0m\u001b[1;33m[\u001b[0m\u001b[1;34m'data'\u001b[0m\u001b[1;33m]\u001b[0m\u001b[1;33m)\u001b[0m\u001b[1;33m:\u001b[0m\u001b[1;33m\u001b[0m\u001b[0m\n\u001b[0m\u001b[0;32m     29\u001b[0m             \u001b[0mtree_array\u001b[0m\u001b[1;33m[\u001b[0m\u001b[0mk\u001b[0m\u001b[1;33m/\u001b[0m\u001b[1;36m2\u001b[0m\u001b[1;33m-\u001b[0m\u001b[1;36m1\u001b[0m\u001b[1;33m]\u001b[0m\u001b[1;33m[\u001b[0m\u001b[1;34m'data'\u001b[0m\u001b[1;33m]\u001b[0m \u001b[1;33m=\u001b[0m \u001b[0mtree_array\u001b[0m\u001b[1;33m[\u001b[0m\u001b[0mk\u001b[0m\u001b[1;33m-\u001b[0m\u001b[1;36m1\u001b[0m\u001b[1;33m]\u001b[0m\u001b[1;33m[\u001b[0m\u001b[1;34m'data'\u001b[0m\u001b[1;33m]\u001b[0m\u001b[1;33m\u001b[0m\u001b[0m\n\u001b[0;32m     30\u001b[0m             \u001b[0mtree_array\u001b[0m\u001b[1;33m[\u001b[0m\u001b[0mk\u001b[0m\u001b[1;33m/\u001b[0m\u001b[1;36m2\u001b[0m\u001b[1;33m-\u001b[0m\u001b[1;36m1\u001b[0m\u001b[1;33m]\u001b[0m\u001b[1;33m[\u001b[0m\u001b[1;34m'tree_arr_index'\u001b[0m\u001b[1;33m]\u001b[0m \u001b[1;33m=\u001b[0m \u001b[0mtree_array\u001b[0m\u001b[1;33m[\u001b[0m\u001b[0mk\u001b[0m\u001b[1;33m-\u001b[0m\u001b[1;36m1\u001b[0m\u001b[1;33m]\u001b[0m\u001b[1;33m[\u001b[0m\u001b[1;34m'tree_arr_index'\u001b[0m\u001b[1;33m]\u001b[0m\u001b[1;33m\u001b[0m\u001b[0m\n",
      "\u001b[1;31mIndexError\u001b[0m: index 29 is out of bounds for axis 0 with size 19"
     ]
    }
   ],
   "source": [
    "ChampionSort(len_)"
   ]
  },
  {
   "cell_type": "code",
   "execution_count": null,
   "metadata": {},
   "outputs": [],
   "source": []
  },
  {
   "cell_type": "code",
   "execution_count": null,
   "metadata": {},
   "outputs": [],
   "source": []
  }
 ],
 "metadata": {
  "kernelspec": {
   "display_name": "Python 3",
   "language": "python",
   "name": "python3"
  },
  "language_info": {
   "codemirror_mode": {
    "name": "ipython",
    "version": 3
   },
   "file_extension": ".py",
   "mimetype": "text/x-python",
   "name": "python",
   "nbconvert_exporter": "python",
   "pygments_lexer": "ipython3",
   "version": "3.6.5"
  }
 },
 "nbformat": 4,
 "nbformat_minor": 2
}
